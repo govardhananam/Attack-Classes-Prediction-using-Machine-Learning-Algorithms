{
  "nbformat": 4,
  "nbformat_minor": 0,
  "metadata": {
    "colab": {
      "name": "SecurityandPrivacy.ipynb",
      "provenance": [],
      "collapsed_sections": []
    },
    "kernelspec": {
      "name": "python3",
      "display_name": "Python 3"
    }
  },
  "cells": [
    {
      "cell_type": "code",
      "metadata": {
        "id": "5_dXOmO26b0g",
        "colab_type": "code",
        "colab": {}
      },
      "source": [
        "import os\n",
        "from collections import defaultdict\n",
        "import pandas as pd\n",
        "import numpy as np\n",
        "import matplotlib.pyplot as plt\n",
        "import warnings\n",
        "warnings.filterwarnings('ignore')\n"
      ],
      "execution_count": null,
      "outputs": []
    },
    {
      "cell_type": "code",
      "metadata": {
        "id": "N4NGIioV6lBM",
        "colab_type": "code",
        "colab": {}
      },
      "source": [
        "dataset_root = '/content'\n",
        "\n",
        "train_file = os.path.join(dataset_root, 'KDDTrain+.txt')\n",
        "test_file = os.path.join(dataset_root, 'KDDTest+.txt')\n"
      ],
      "execution_count": null,
      "outputs": []
    },
    {
      "cell_type": "code",
      "metadata": {
        "id": "9u3Uw5lD7wwc",
        "colab_type": "code",
        "colab": {}
      },
      "source": [
        "\n",
        "# Original KDD dataset feature names obtained from \n",
        "# http://kdd.ics.uci.edu/databases/kddcup99/kddcup.names\n",
        "# http://kdd.ics.uci.edu/databases/kddcup99/kddcup99.html\n",
        "\n",
        "header_names = ['duration', 'protocol_type', 'service', 'flag', 'src_bytes', 'dst_bytes', 'land', 'wrong_fragment', 'urgent', 'hot', 'num_failed_logins', 'logged_in', 'num_compromised', 'root_shell', 'su_attempted', 'num_root', 'num_file_creations', 'num_shells', 'num_access_files', 'num_outbound_cmds', 'is_host_login', 'is_guest_login', 'count', 'srv_count', 'serror_rate', 'srv_serror_rate', 'rerror_rate', 'srv_rerror_rate', 'same_srv_rate', 'diff_srv_rate', 'srv_diff_host_rate', 'dst_host_count', 'dst_host_srv_count', 'dst_host_same_srv_rate', 'dst_host_diff_srv_rate', 'dst_host_same_src_port_rate', 'dst_host_srv_diff_host_rate', 'dst_host_serror_rate', 'dst_host_srv_serror_rate', 'dst_host_rerror_rate', 'dst_host_srv_rerror_rate', 'attack_type', 'success_pred']\n"
      ],
      "execution_count": null,
      "outputs": []
    },
    {
      "cell_type": "code",
      "metadata": {
        "id": "2R0OFNr171WM",
        "colab_type": "code",
        "colab": {}
      },
      "source": [
        "# Differentiating between nominal, binary, and numeric features\n",
        "\n",
        "# root_shell is marked as a continuous feature in the kddcup.names \n",
        "# file, but it is supposed to be a binary feature according to the \n",
        "# dataset documentation\n",
        "\n",
        "col_names = np.array(header_names)\n",
        "\n",
        "nominal_idx = [1, 2, 3]\n",
        "binary_idx = [6, 11, 13, 14, 20, 21]\n",
        "numeric_idx = list(set(range(41)).difference(nominal_idx).difference(binary_idx))\n",
        "\n",
        "nominal_cols = col_names[nominal_idx].tolist()\n",
        "binary_cols = col_names[binary_idx].tolist()\n",
        "numeric_cols = col_names[numeric_idx].tolist()"
      ],
      "execution_count": null,
      "outputs": []
    },
    {
      "cell_type": "code",
      "metadata": {
        "id": "iK4C1Mcz8ZYn",
        "colab_type": "code",
        "colab": {
          "base_uri": "https://localhost:8080/",
          "height": 473
        },
        "outputId": "17c75a87-1c09-47a7-88f4-aa80c423ea9f"
      },
      "source": [
        "# training_attack_types.txt maps each of the 22 different attacks to 1 of 4 categories\n",
        "# file obtained from http://kdd.ics.uci.edu/databases/kddcup99/training_attack_types\n",
        "\n",
        "\n",
        "\n",
        "category = defaultdict(list)\n",
        "category['benign'].append('normal')\n",
        "\n",
        "with open('training_attack_types.txt', 'r') as f:\n",
        "    for line in f.readlines():\n",
        "        attack, cat = line.strip().split(' ')\n",
        "        category[cat].append(attack)\n",
        "\n",
        "attack_mapping = dict((v,k) for k in category for v in category[k])\n",
        "\n",
        "\n",
        "train_df = pd.read_csv(train_file, names=header_names)\n",
        "train_df['attack_category'] = train_df['attack_type'] \\\n",
        "                                .map(lambda x: attack_mapping[x])\n",
        "train_df.drop(['success_pred'], axis=1, inplace=True)\n",
        "    \n",
        "test_df = pd.read_csv(test_file, names=header_names)\n",
        "test_df['attack_category'] = test_df['attack_type'] \\\n",
        "                                .map(lambda x: attack_mapping[x])\n",
        "test_df.drop(['success_pred'], axis=1, inplace=True)\n",
        "\n",
        "\n",
        "train_attack_types = train_df['attack_type'].value_counts()\n",
        "train_attack_cats = train_df['attack_category'].value_counts()\n",
        "\n",
        "test_attack_types = test_df['attack_type'].value_counts()\n",
        "test_attack_cats = test_df['attack_category'].value_counts()\n",
        "\n",
        "train_attack_types.plot(kind='barh', figsize=(20,10), fontsize=20)\n",
        "\n",
        "train_attack_cats.plot(kind='barh', figsize=(20,10), fontsize=30)\n",
        "\n",
        "\n",
        "test_attack_types.plot(kind='barh', figsize=(20,10), fontsize=15)\n",
        "\n",
        "test_attack_cats.plot(kind='barh', figsize=(20,10), fontsize=30)\n"
      ],
      "execution_count": null,
      "outputs": [
        {
          "output_type": "execute_result",
          "data": {
            "text/plain": [
              "<matplotlib.axes._subplots.AxesSubplot at 0x7f4a2b925940>"
            ]
          },
          "metadata": {
            "tags": []
          },
          "execution_count": 5
        },
        {
          "output_type": "display_data",
          "data": {
            "image/png": "[encoded data removed]",
            "text/plain": [
              "<Figure size 1440x720 with 1 Axes>"
            ]
          },
          "metadata": {
            "tags": [],
            "needs_background": "light"
          }
        }
      ]
    },
    {
      "cell_type": "code",
      "metadata": {
        "id": "IMwB6nFX8AzI",
        "colab_type": "code",
        "colab": {
          "base_uri": "https://localhost:8080/",
          "height": 85
        },
        "outputId": "78ac816a-0824-4de7-86c8-4c83c02a379f"
      },
      "source": [
        "# Let's take a look at the binary features\n",
        "# By definition, all of these features should have a min of 0.0 and a max of 1.0\n",
        "#execute the commands in console\n",
        "\n",
        "train_df[binary_cols].describe().transpose()\n",
        "\n",
        "\n",
        "# Wait a minute... the su_attempted column has a max value of 2.0?\n",
        "\n",
        "train_df.groupby(['su_attempted']).size()\n",
        "\n",
        "# Let's fix this discrepancy and assume that su_attempted=2 -> su_attempted=0\n",
        "\n",
        "train_df['su_attempted'].replace(2, 0, inplace=True)\n",
        "test_df['su_attempted'].replace(2, 0, inplace=True)\n",
        "train_df.groupby(['su_attempted']).size()\n"
      ],
      "execution_count": null,
      "outputs": [
        {
          "output_type": "execute_result",
          "data": {
            "text/plain": [
              "su_attempted\n",
              "0    125952\n",
              "1        21\n",
              "dtype: int64"
            ]
          },
          "metadata": {
            "tags": []
          },
          "execution_count": 6
        }
      ]
    },
    {
      "cell_type": "code",
      "metadata": {
        "id": "OxcLXbpF8FH5",
        "colab_type": "code",
        "colab": {}
      },
      "source": [
        "# Next, we notice that the num_outbound_cmds column only takes on one value!\n",
        "\n",
        "train_df.groupby(['num_outbound_cmds']).size()\n",
        "\n",
        "# Now, that's not a very useful feature - let's drop it from the dataset\n",
        "\n",
        "train_df.drop('num_outbound_cmds', axis = 1, inplace=True)\n",
        "test_df.drop('num_outbound_cmds', axis = 1, inplace=True)\n",
        "numeric_cols.remove('num_outbound_cmds')\n"
      ],
      "execution_count": null,
      "outputs": []
    },
    {
      "cell_type": "code",
      "metadata": {
        "id": "guXFlcs48KNu",
        "colab_type": "code",
        "colab": {}
      },
      "source": [
        "\"\"\"\n",
        "Data Preparation\n",
        "\n",
        "\"\"\"\n",
        "train_Y = train_df['attack_category']\n",
        "train_x_raw = train_df.drop(['attack_category','attack_type'], axis=1)\n",
        "test_Y = test_df['attack_category']\n",
        "test_x_raw = test_df.drop(['attack_category','attack_type'], axis=1)\n",
        "\n",
        "\n",
        "\n",
        "\n",
        "combined_df_raw = pd.concat([train_x_raw, test_x_raw])\n",
        "combined_df = pd.get_dummies(combined_df_raw, columns=nominal_cols, drop_first=True)\n",
        "\n",
        "train_x = combined_df[:len(train_x_raw)]\n",
        "test_x = combined_df[len(train_x_raw):]\n"
      ],
      "execution_count": null,
      "outputs": []
    },
    {
      "cell_type": "code",
      "metadata": {
        "id": "dttNk1dF8RoY",
        "colab_type": "code",
        "colab": {}
      },
      "source": [
        "# Store dummy variable feature names\n",
        "dummy_variables = list(set(train_x)-set(combined_df_raw))\n",
        "\n",
        "#execute the commands in console\n",
        "train_x.describe()\n",
        "train_x['duration'].describe()\n",
        "# Experimenting with StandardScaler on the single 'duration' feature\n",
        "from sklearn.preprocessing import StandardScaler\n",
        "\n",
        "durations = train_x['duration'].values.reshape(-1, 1)\n",
        "standard_scaler = StandardScaler().fit(durations)\n",
        "scaled_durations = standard_scaler.transform(durations)\n",
        "pd.Series(scaled_durations.flatten()).describe()\n",
        "\n",
        "# Experimenting with MinMaxScaler on the single 'duration' feature\n",
        "from sklearn.preprocessing import MinMaxScaler\n",
        "\n",
        "min_max_scaler = MinMaxScaler().fit(durations)\n",
        "min_max_scaled_durations = min_max_scaler.transform(durations)\n",
        "pd.Series(min_max_scaled_durations.flatten()).describe()\n",
        "\n",
        "# Experimenting with RobustScaler on the single 'duration' feature\n",
        "from sklearn.preprocessing import RobustScaler\n",
        "\n",
        "min_max_scaler = RobustScaler().fit(durations)\n",
        "robust_scaled_durations = min_max_scaler.transform(durations)\n",
        "pd.Series(robust_scaled_durations.flatten()).describe()\n",
        "\n",
        "# Let's proceed with StandardScaler- Apply to all the numeric columns\n",
        "\n",
        "standard_scaler = StandardScaler().fit(train_x[numeric_cols])\n",
        "\n",
        "train_x[numeric_cols] = \\\n",
        "    standard_scaler.transform(train_x[numeric_cols])\n",
        "\n",
        "test_x[numeric_cols] = \\\n",
        "    standard_scaler.transform(test_x[numeric_cols])\n",
        "    \n",
        "train_x.describe()\n",
        "\n",
        "\n",
        "train_Y_bin = train_Y.apply(lambda x: 0 if x is 'benign' else 1)\n",
        "test_Y_bin = test_Y.apply(lambda x: 0 if x is 'benign' else 1)\n"
      ],
      "execution_count": null,
      "outputs": []
    },
    {
      "cell_type": "code",
      "metadata": {
        "id": "Q1oixWZz6S9u",
        "colab_type": "code",
        "colab": {
          "base_uri": "https://localhost:8080/",
          "height": 340
        },
        "outputId": "9080d439-e684-45f7-ff9e-f3ae386b1ffd"
      },
      "source": [
        "\"\"\"\n",
        "multi class classification using decision tree \n",
        "\n",
        "\"\"\"\n",
        "\n",
        "# 5-class classification version\n",
        "from sklearn.tree import DecisionTreeClassifier\n",
        "from sklearn.metrics import confusion_matrix, zero_one_loss,classification_report,accuracy_score,f1_score\n",
        "\n",
        "d_classifier = DecisionTreeClassifier(criterion='entropy',splitter =\"random\", max_depth=29,random_state=10)\n",
        "d_classifier.fit(train_x, train_Y)\n",
        "\n",
        "pred_y = d_classifier.predict(test_x)\n",
        "\n",
        "results = confusion_matrix(test_Y, pred_y)\n",
        "acc_d = accuracy_score(test_Y, pred_y)\n",
        "con_d = classification_report(test_Y,pred_y)\n",
        "error = zero_one_loss(test_Y, pred_y)\n",
        "\n",
        "print(results)\n",
        "print(error)\n",
        "print(acc_d)\n",
        "print(con_d)"
      ],
      "execution_count": null,
      "outputs": [
        {
          "output_type": "stream",
          "text": [
            "[[9432   77  197    2    3]\n",
            " [1411 6178   44    3    0]\n",
            " [ 327  163 1928    4    1]\n",
            " [1901  327  100  243    3]\n",
            " [ 154    0   25    2   19]]\n",
            "0.2104329311568488\n",
            "0.7895670688431512\n",
            "              precision    recall  f1-score   support\n",
            "\n",
            "      benign       0.71      0.97      0.82      9711\n",
            "         dos       0.92      0.81      0.86      7636\n",
            "       probe       0.84      0.80      0.82      2423\n",
            "         r2l       0.96      0.09      0.17      2574\n",
            "         u2r       0.73      0.10      0.17       200\n",
            "\n",
            "    accuracy                           0.79     22544\n",
            "   macro avg       0.83      0.55      0.57     22544\n",
            "weighted avg       0.82      0.79      0.75     22544\n",
            "\n"
          ],
          "name": "stdout"
        }
      ]
    },
    {
      "cell_type": "markdown",
      "metadata": {
        "id": "68TAh6eegqGn",
        "colab_type": "text"
      },
      "source": [
        "**Assignment** **Part**"
      ]
    },
    {
      "cell_type": "code",
      "metadata": {
        "id": "oLdSCUsWy0Y2",
        "colab_type": "code",
        "colab": {}
      },
      "source": [
        "import numpy as np\n",
        "import matplotlib.pyplot as plt\n",
        "import seaborn as sns\n",
        "%matplotlib inline"
      ],
      "execution_count": null,
      "outputs": []
    },
    {
      "cell_type": "code",
      "metadata": {
        "id": "tP8j6Z0sCGXZ",
        "colab_type": "code",
        "colab": {
          "base_uri": "https://localhost:8080/",
          "height": 204
        },
        "outputId": "5ad7dc7c-955a-45a6-c40e-115b47365d05"
      },
      "source": [
        "#1. Identify the attribute names (Header)\n",
        "print (train_df.columns.values)"
      ],
      "execution_count": null,
      "outputs": [
        {
          "output_type": "stream",
          "text": [
            "['duration' 'protocol_type' 'service' 'flag' 'src_bytes' 'dst_bytes'\n",
            " 'land' 'wrong_fragment' 'urgent' 'hot' 'num_failed_logins' 'logged_in'\n",
            " 'num_compromised' 'root_shell' 'su_attempted' 'num_root'\n",
            " 'num_file_creations' 'num_shells' 'num_access_files' 'is_host_login'\n",
            " 'is_guest_login' 'count' 'srv_count' 'serror_rate' 'srv_serror_rate'\n",
            " 'rerror_rate' 'srv_rerror_rate' 'same_srv_rate' 'diff_srv_rate'\n",
            " 'srv_diff_host_rate' 'dst_host_count' 'dst_host_srv_count'\n",
            " 'dst_host_same_srv_rate' 'dst_host_diff_srv_rate'\n",
            " 'dst_host_same_src_port_rate' 'dst_host_srv_diff_host_rate'\n",
            " 'dst_host_serror_rate' 'dst_host_srv_serror_rate' 'dst_host_rerror_rate'\n",
            " 'dst_host_srv_rerror_rate' 'attack_type' 'attack_category']\n"
          ],
          "name": "stdout"
        }
      ]
    },
    {
      "cell_type": "code",
      "metadata": {
        "id": "QcTY2bPHC1EA",
        "colab_type": "code",
        "colab": {
          "base_uri": "https://localhost:8080/",
          "height": 51
        },
        "outputId": "df6dba11-8b45-4bf5-ffd4-b50832225d44"
      },
      "source": [
        "#2. Check the length of the Train and Test dataset\n",
        "print (train_df.shape)\n",
        "print (test_df.shape)"
      ],
      "execution_count": null,
      "outputs": [
        {
          "output_type": "stream",
          "text": [
            "(125973, 42)\n",
            "(22544, 42)\n"
          ],
          "name": "stdout"
        }
      ]
    },
    {
      "cell_type": "code",
      "metadata": {
        "id": "6lL1-1jcDOOd",
        "colab_type": "code",
        "colab": {
          "base_uri": "https://localhost:8080/",
          "height": 221
        },
        "outputId": "a6ca9114-c9e9-4126-90a8-80688c07dc1b"
      },
      "source": [
        "#3. Check the total number of samples that belong to each of the five classes of the trainingdataset.\n",
        "print (train_df['attack_category'].value_counts())\n",
        "print (test_df['attack_category'].value_counts())\n"
      ],
      "execution_count": null,
      "outputs": [
        {
          "output_type": "stream",
          "text": [
            "benign    67343\n",
            "dos       45927\n",
            "probe     11656\n",
            "r2l         995\n",
            "u2r          52\n",
            "Name: attack_category, dtype: int64\n",
            "benign    9711\n",
            "dos       7636\n",
            "r2l       2574\n",
            "probe     2423\n",
            "u2r        200\n",
            "Name: attack_category, dtype: int64\n"
          ],
          "name": "stdout"
        }
      ]
    },
    {
      "cell_type": "markdown",
      "metadata": {
        "id": "Dzo5Ic0qg89W",
        "colab_type": "text"
      },
      "source": [
        "**KNN**"
      ]
    },
    {
      "cell_type": "code",
      "metadata": {
        "id": "L72dVGQpDN9h",
        "colab_type": "code",
        "colab": {
          "base_uri": "https://localhost:8080/",
          "height": 306
        },
        "outputId": "f985ce5c-c8b2-4ef8-b631-340da1b9ba20"
      },
      "source": [
        "#1.  Implement at least 5 benchmark classificationalgorithms. \n",
        "#2. Tune the parameters if applicable to obtain a good solution.\n",
        "#3. Obtain the confusion matrix for each of the scenarios.\n",
        "#4. Calculate the performance measures of the each of the classification algorithms that includes\n",
        "# Accuracy (%), Precision (%), Recall (%), F-Score (%), False Alarm- FPR (%)\n",
        "\n",
        "#1\n",
        "from sklearn.neighbors import KNeighborsClassifier\n",
        "# Create KNN classifier\n",
        "knn = KNeighborsClassifier(n_neighbors = 3)\n",
        "# Fit the classifier to the data\n",
        "knn.fit(train_x,train_Y)\n",
        "pred_k = knn.predict(test_x)\n",
        "acc_k = knn.score(test_x, test_Y)\n",
        "print (acc_k)\n",
        "from sklearn.metrics import classification_report,accuracy_score,precision_score,recall_score,f1_score\n",
        "print(classification_report(test_Y,pred_k))\n",
        "print(accuracy_score(test_Y,pred_k))\n",
        "knn_con = confusion_matrix(test_Y,pred_k)\n"
      ],
      "execution_count": null,
      "outputs": [
        {
          "output_type": "stream",
          "text": [
            "0.7551898509581263\n",
            "              precision    recall  f1-score   support\n",
            "\n",
            "      benign       0.66      0.97      0.78      9711\n",
            "         dos       0.96      0.78      0.86      7636\n",
            "       probe       0.82      0.62      0.71      2423\n",
            "         r2l       0.93      0.06      0.10      2574\n",
            "         u2r       0.82      0.04      0.09       200\n",
            "\n",
            "    accuracy                           0.76     22544\n",
            "   macro avg       0.84      0.49      0.51     22544\n",
            "weighted avg       0.81      0.76      0.72     22544\n",
            "\n",
            "0.7551898509581263\n",
            "0.7551898509581263\n",
            "0.7551898509581263\n",
            "0.7551898509581263\n"
          ],
          "name": "stdout"
        }
      ]
    },
    {
      "cell_type": "code",
      "metadata": {
        "id": "o8ZxCN7z_qWu",
        "colab_type": "code",
        "colab": {
          "base_uri": "https://localhost:8080/",
          "height": 102
        },
        "outputId": "be7f20bf-7807-4967-fb59-1c7d8074f986"
      },
      "source": [
        "from sklearn.metrics import multilabel_confusion_matrix\n",
        "mul_c = multilabel_confusion_matrix(test_Y,pred_k, labels=[\"benign\", \"dos\",\"probe\",\"r2l\",\"u2r\"])\n",
        "for i in range(len(mul_c)):\n",
        "    confusion = mul_c[i]\n",
        "    TP = confusion[1][1]\n",
        "    TN = confusion[0][0]\n",
        "    FP = confusion[0][1]\n",
        "    FN = confusion[1][0]\n",
        "    print((TP + TN) / float(TP + TN + FP + FN)*100)"
      ],
      "execution_count": null,
      "outputs": [
        {
          "output_type": "stream",
          "text": [
            "76.90738112136268\n",
            "91.35024840312278\n",
            "94.47303051809794\n",
            "89.16341376863024\n",
            "99.14389638041165\n"
          ],
          "name": "stdout"
        }
      ]
    },
    {
      "cell_type": "markdown",
      "metadata": {
        "id": "azpdYylRhAZm",
        "colab_type": "text"
      },
      "source": [
        "**Confusion matrix KNN**"
      ]
    },
    {
      "cell_type": "code",
      "metadata": {
        "id": "b1CM1BVCymIV",
        "colab_type": "code",
        "colab": {
          "base_uri": "https://localhost:8080/",
          "height": 344
        },
        "outputId": "b95a04b7-ca24-4ae4-bd41-d282b997de75"
      },
      "source": [
        "# create heatmap\n",
        "sns.heatmap(pd.DataFrame(knn_con), annot=True, cmap=\"YlGnBu\" ,fmt='g',xticklabels= ['benign','dos','probe','r2l','u2r'],yticklabels=['benign','dos','probe','r2l','u2r'])\n",
        "plt.tight_layout()\n",
        "plt.title('Confusion matrix')\n",
        "plt.ylabel('Actual label')\n",
        "plt.xlabel('Predicted label')"
      ],
      "execution_count": null,
      "outputs": [
        {
          "output_type": "execute_result",
          "data": {
            "text/plain": [
              "Text(0.5, 15.0, 'Predicted label')"
            ]
          },
          "metadata": {
            "tags": []
          },
          "execution_count": 20
        },
        {
          "output_type": "display_data",
          "data": {
            "image/png": "[encoded data removed]",
            "text/plain": [
              "<Figure size 432x288 with 2 Axes>"
            ]
          },
          "metadata": {
            "tags": [],
            "needs_background": "light"
          }
        }
      ]
    },
    {
      "cell_type": "markdown",
      "metadata": {
        "id": "eE3zOsnkhE5F",
        "colab_type": "text"
      },
      "source": [
        "**Logistic Regression**"
      ]
    },
    {
      "cell_type": "code",
      "metadata": {
        "id": "Ye195C4LNPfr",
        "colab_type": "code",
        "colab": {
          "base_uri": "https://localhost:8080/",
          "height": 289
        },
        "outputId": "47626b78-e487-4848-91d4-8a74a1835693"
      },
      "source": [
        "#2\n",
        "from sklearn.linear_model import LogisticRegression\n",
        "\n",
        "lclf = LogisticRegression(random_state=42).fit(train_x,train_Y)\n",
        "l_score = lclf.predict(test_x)\n",
        "l_clf = lclf.score(test_x,test_Y)\n",
        "print (l_clf)\n",
        "from sklearn.metrics import classification_report,confusion_matrix\n",
        "print(classification_report(test_Y,l_score,digits=3))\n",
        "ln_con = confusion_matrix(test_Y,l_score)"
      ],
      "execution_count": null,
      "outputs": [
        {
          "output_type": "stream",
          "text": [
            "0.7530606813342796\n",
            "              precision    recall  f1-score   support\n",
            "\n",
            "      benign       0.66      0.93      0.77      9711\n",
            "         dos       0.97      0.79      0.87      7636\n",
            "       probe       0.74      0.75      0.75      2423\n",
            "         r2l       0.91      0.04      0.07      2574\n",
            "         u2r       0.80      0.04      0.08       200\n",
            "\n",
            "    accuracy                           0.75     22544\n",
            "   macro avg       0.81      0.51      0.51     22544\n",
            "weighted avg       0.80      0.75      0.72     22544\n",
            "\n",
            "0.7530606813342796\n",
            "0.7530606813342796\n",
            "0.7530606813342796\n"
          ],
          "name": "stdout"
        }
      ]
    },
    {
      "cell_type": "code",
      "metadata": {
        "id": "Sgie2OBt6Uh1",
        "colab_type": "code",
        "colab": {
          "base_uri": "https://localhost:8080/",
          "height": 255
        },
        "outputId": "8c7c1b0b-ff64-43c9-f383-4e3389663c21"
      },
      "source": [
        "from sklearn.metrics import multilabel_confusion_matrix\n",
        "mul_c = multilabel_confusion_matrix(test_Y,l_score, labels=[\"benign\", \"dos\",\"probe\",\"r2l\",\"u2r\"])"
      ],
      "execution_count": null,
      "outputs": [
        {
          "output_type": "execute_result",
          "data": {
            "text/plain": [
              "array([[[ 8122,  4711],\n",
              "        [  718,  8993]],\n",
              "\n",
              "       [[14714,   194],\n",
              "        [ 1584,  6052]],\n",
              "\n",
              "       [[19471,   650],\n",
              "        [  598,  1825]],\n",
              "\n",
              "       [[19960,    10],\n",
              "        [ 2475,    99]],\n",
              "\n",
              "       [[22342,     2],\n",
              "        [  192,     8]]])"
            ]
          },
          "metadata": {
            "tags": []
          },
          "execution_count": 24
        }
      ]
    },
    {
      "cell_type": "code",
      "metadata": {
        "id": "rXY_H6HtakOz",
        "colab_type": "code",
        "colab": {
          "base_uri": "https://localhost:8080/",
          "height": 102
        },
        "outputId": "226caaa3-e1a5-436f-8d43-cf7314ac599b"
      },
      "source": [
        "from sklearn.metrics import multilabel_confusion_matrix\n",
        "mul_c = multilabel_confusion_matrix(test_Y,l_score, labels=[\"benign\", \"dos\",\"probe\",\"r2l\",\"u2r\"])\n",
        "for i in range(len(mul_c)):\n",
        "    confusion = mul_c[i]\n",
        "    TP = confusion[1][1]\n",
        "    TN = confusion[0][0]\n",
        "    FP = confusion[0][1]\n",
        "    FN = confusion[1][0]\n",
        "    print((TP + TN) / float(TP + TN + FP + FN)*100)"
      ],
      "execution_count": null,
      "outputs": [
        {
          "output_type": "stream",
          "text": [
            "75.91820440028388\n",
            "92.11320085166786\n",
            "94.46415897799858\n",
            "88.97711142654364\n",
            "99.13946061036197\n"
          ],
          "name": "stdout"
        }
      ]
    },
    {
      "cell_type": "markdown",
      "metadata": {
        "id": "5DqtEBcdhIpK",
        "colab_type": "text"
      },
      "source": [
        "**Confusion Matrix LR**"
      ]
    },
    {
      "cell_type": "code",
      "metadata": {
        "id": "KFnA9OGEyXAP",
        "colab_type": "code",
        "colab": {
          "base_uri": "https://localhost:8080/",
          "height": 344
        },
        "outputId": "a188989d-c186-4b10-c51d-6dad640f4bf0"
      },
      "source": [
        "# create heatmap\n",
        "sns.heatmap(pd.DataFrame(ln_con), annot=True, cmap=\"YlGnBu\" ,fmt='g',xticklabels= ['benign','dos','probe','r2l','u2r'],yticklabels=['benign','dos','probe','r2l','u2r'])\n",
        "plt.tight_layout()\n",
        "plt.title('Confusion matrix')\n",
        "plt.ylabel('Actual label')\n",
        "plt.xlabel('Predicted label')"
      ],
      "execution_count": null,
      "outputs": [
        {
          "output_type": "execute_result",
          "data": {
            "text/plain": [
              "Text(0.5, 15.0, 'Predicted label')"
            ]
          },
          "metadata": {
            "tags": []
          },
          "execution_count": 27
        },
        {
          "output_type": "display_data",
          "data": {
            "image/png": "[encoded data removed]",
            "text/plain": [
              "<Figure size 432x288 with 2 Axes>"
            ]
          },
          "metadata": {
            "tags": [],
            "needs_background": "light"
          }
        }
      ]
    },
    {
      "cell_type": "markdown",
      "metadata": {
        "id": "LIq4DWlVhM7o",
        "colab_type": "text"
      },
      "source": [
        "**Support Vector Machine**"
      ]
    },
    {
      "cell_type": "code",
      "metadata": {
        "id": "N4CfnaYqZ07V",
        "colab_type": "code",
        "colab": {
          "base_uri": "https://localhost:8080/",
          "height": 238
        },
        "outputId": "935d4171-3668-468d-a027-436d1491ed22"
      },
      "source": [
        "#3\n",
        "from sklearn.svm import SVC\n",
        "svclassifier = SVC(kernel='linear')\n",
        "svclassifier.fit(train_x, train_Y)\n",
        "svm_pred = svclassifier.predict(test_x)\n",
        "from sklearn.metrics import classification_report, confusion_matrix, accuracy_score\n",
        "sv_con = confusion_matrix(test_Y,svm_pred)\n",
        "print(classification_report(test_Y,svm_pred))\n",
        "print(accuracy_score(test_Y,svm_pred))"
      ],
      "execution_count": null,
      "outputs": [
        {
          "output_type": "stream",
          "text": [
            "              precision    recall  f1-score   support\n",
            "\n",
            "      benign       0.66      0.93      0.77      9711\n",
            "         dos       0.95      0.81      0.87      7636\n",
            "       probe       0.78      0.66      0.71      2423\n",
            "         r2l       0.98      0.11      0.19      2574\n",
            "         u2r       0.62      0.08      0.14       200\n",
            "\n",
            "    accuracy                           0.76     22544\n",
            "   macro avg       0.80      0.52      0.54     22544\n",
            "weighted avg       0.81      0.76      0.73     22544\n",
            "\n",
            "0.7584279630943932\n"
          ],
          "name": "stdout"
        }
      ]
    },
    {
      "cell_type": "code",
      "metadata": {
        "id": "8eqUdT2i6jq9",
        "colab_type": "code",
        "colab": {
          "base_uri": "https://localhost:8080/",
          "height": 255
        },
        "outputId": "8acac7d5-1cb8-4117-ad1f-a591cb941644"
      },
      "source": [
        "from sklearn.metrics import multilabel_confusion_matrix\n",
        "mul_c = multilabel_confusion_matrix(test_Y,svm_pred, labels=[\"benign\", \"dos\",\"probe\",\"r2l\",\"u2r\"])"
      ],
      "execution_count": null,
      "outputs": [
        {
          "output_type": "execute_result",
          "data": {
            "text/plain": [
              "array([[[ 8197,  4636],\n",
              "        [  671,  9040]],\n",
              "\n",
              "       [[14566,   342],\n",
              "        [ 1457,  6179]],\n",
              "\n",
              "       [[19670,   451],\n",
              "        [  835,  1588]],\n",
              "\n",
              "       [[19963,     7],\n",
              "        [ 2299,   275]],\n",
              "\n",
              "       [[22334,    10],\n",
              "        [  184,    16]]])"
            ]
          },
          "metadata": {
            "tags": []
          },
          "execution_count": 29
        }
      ]
    },
    {
      "cell_type": "code",
      "metadata": {
        "id": "MaK-32-haqpd",
        "colab_type": "code",
        "colab": {
          "base_uri": "https://localhost:8080/",
          "height": 102
        },
        "outputId": "8cb137be-17d2-4dc6-ee72-3068e635eee0"
      },
      "source": [
        "from sklearn.metrics import multilabel_confusion_matrix\n",
        "mul_c = multilabel_confusion_matrix(test_Y,svm_pred, labels=[\"benign\", \"dos\",\"probe\",\"r2l\",\"u2r\"])\n",
        "for i in range(len(mul_c)):\n",
        "    confusion = mul_c[i]\n",
        "    TP = confusion[1][1]\n",
        "    TN = confusion[0][0]\n",
        "    FP = confusion[0][1]\n",
        "    FN = confusion[1][0]\n",
        "    print((TP + TN) / float(TP + TN + FP + FN)*100)"
      ],
      "execution_count": null,
      "outputs": [
        {
          "output_type": "stream",
          "text": [
            "76.45936834634493\n",
            "92.02004968062457\n",
            "94.29559971611071\n",
            "89.77111426543648\n",
            "99.13946061036197\n"
          ],
          "name": "stdout"
        }
      ]
    },
    {
      "cell_type": "markdown",
      "metadata": {
        "id": "TY4l7yXbhSND",
        "colab_type": "text"
      },
      "source": [
        "**Confusion Matrix SVM**"
      ]
    },
    {
      "cell_type": "code",
      "metadata": {
        "id": "E8aoflNpyMVU",
        "colab_type": "code",
        "colab": {}
      },
      "source": [
        "# create heatmap\n",
        "sns.heatmap(pd.DataFrame(sv_con), annot=True, cmap=\"YlGnBu\" ,fmt='g',xticklabels= ['benign','dos','probe','r2l','u2r'],yticklabels=['benign','dos','probe','r2l','u2r'])\n",
        "plt.tight_layout()\n",
        "plt.title('Confusion matrix')\n",
        "plt.ylabel('Actual label')\n",
        "plt.xlabel('Predicted label')"
      ],
      "execution_count": null,
      "outputs": []
    },
    {
      "cell_type": "markdown",
      "metadata": {
        "id": "dB6lqF5chZWu",
        "colab_type": "text"
      },
      "source": [
        "**Random Forest**"
      ]
    },
    {
      "cell_type": "code",
      "metadata": {
        "id": "OUegpzqEdCCg",
        "colab_type": "code",
        "colab": {
          "base_uri": "https://localhost:8080/",
          "height": 238
        },
        "outputId": "626daeb3-5a43-4f26-cd49-3d2959340fc3"
      },
      "source": [
        "#4\n",
        "from sklearn.ensemble import RandomForestClassifier\n",
        "from sklearn.metrics import classification_report, confusion_matrix, accuracy_score\n",
        "classifier = RandomForestClassifier(n_estimators = 5, criterion = 'entropy', max_depth =None, random_state=45)\n",
        "classifier.fit(train_x, train_Y)\n",
        "# Predicting the Test set results\n",
        "r_pred = classifier.predict(test_x)\n",
        "ran_con = confusion_matrix(test_Y,r_pred)\n",
        "print(classification_report(test_Y,r_pred))\n",
        "print(accuracy_score(test_Y,r_pred))"
      ],
      "execution_count": null,
      "outputs": [
        {
          "output_type": "stream",
          "text": [
            "              precision    recall  f1-score   support\n",
            "\n",
            "      benign       0.67      0.97      0.80      9711\n",
            "         dos       0.96      0.79      0.87      7636\n",
            "       probe       0.84      0.73      0.78      2423\n",
            "         r2l       0.97      0.05      0.09      2574\n",
            "         u2r       0.33      0.01      0.01       200\n",
            "\n",
            "    accuracy                           0.77     22544\n",
            "   macro avg       0.76      0.51      0.51     22544\n",
            "weighted avg       0.82      0.77      0.73     22544\n",
            "\n",
            "0.7704045422285308\n"
          ],
          "name": "stdout"
        }
      ]
    },
    {
      "cell_type": "code",
      "metadata": {
        "id": "4fijpPDO6nS2",
        "colab_type": "code",
        "colab": {
          "base_uri": "https://localhost:8080/",
          "height": 255
        },
        "outputId": "37e8a745-6458-41db-c5ba-a719235f0745"
      },
      "source": [
        "from sklearn.metrics import multilabel_confusion_matrix\n",
        "mul_c = multilabel_confusion_matrix(test_Y,r_pred, labels=[\"benign\", \"dos\",\"probe\",\"r2l\",\"u2r\"])"
      ],
      "execution_count": null,
      "outputs": [
        {
          "output_type": "execute_result",
          "data": {
            "text/plain": [
              "array([[[ 8241,  4592],\n",
              "        [  269,  9442]],\n",
              "\n",
              "       [[14656,   252],\n",
              "        [ 1594,  6042]],\n",
              "\n",
              "       [[19795,   326],\n",
              "        [  657,  1766]],\n",
              "\n",
              "       [[19966,     4],\n",
              "        [ 2457,   117]],\n",
              "\n",
              "       [[22342,     2],\n",
              "        [  199,     1]]])"
            ]
          },
          "metadata": {
            "tags": []
          },
          "execution_count": 32
        }
      ]
    },
    {
      "cell_type": "code",
      "metadata": {
        "id": "MO8gsqO-atXf",
        "colab_type": "code",
        "colab": {
          "base_uri": "https://localhost:8080/",
          "height": 102
        },
        "outputId": "7696c28b-90b7-4bcb-97bd-69e7c99be203"
      },
      "source": [
        "from sklearn.metrics import multilabel_confusion_matrix\n",
        "mul_c = multilabel_confusion_matrix(test_Y,r_pred, labels=[\"benign\", \"dos\",\"probe\",\"r2l\",\"u2r\"])\n",
        "for i in range(len(mul_c)):\n",
        "    confusion = mul_c[i]\n",
        "    TP = confusion[1][1]\n",
        "    TN = confusion[0][0]\n",
        "    FP = confusion[0][1]\n",
        "    FN = confusion[1][0]\n",
        "    print((TP + TN) / float(TP + TN + FP + FN)*100)"
      ],
      "execution_count": null,
      "outputs": [
        {
          "output_type": "stream",
          "text": [
            "78.43772178850247\n",
            "91.81156848828957\n",
            "95.63963804116395\n",
            "89.08356990773598\n",
            "99.10841022001419\n"
          ],
          "name": "stdout"
        }
      ]
    },
    {
      "cell_type": "markdown",
      "metadata": {
        "id": "D8H9RaCIheOT",
        "colab_type": "text"
      },
      "source": [
        "**Confusion Matrix RF**"
      ]
    },
    {
      "cell_type": "code",
      "metadata": {
        "id": "lAQnaue0x75n",
        "colab_type": "code",
        "colab": {
          "base_uri": "https://localhost:8080/",
          "height": 344
        },
        "outputId": "9ba26a0d-4b19-4914-ad1e-78b1c8845a8d"
      },
      "source": [
        "# create heatmap\n",
        "sns.heatmap(pd.DataFrame(ran_con), annot=True, cmap=\"YlGnBu\" ,fmt='g',xticklabels= ['benign','dos','probe','r2l','u2r'],yticklabels=['benign','dos','probe','r2l','u2r'])\n",
        "plt.tight_layout()\n",
        "plt.title('Confusion matrix')\n",
        "plt.ylabel('Actual label')\n",
        "plt.xlabel('Predicted label')"
      ],
      "execution_count": null,
      "outputs": [
        {
          "output_type": "execute_result",
          "data": {
            "text/plain": [
              "Text(0.5, 15.0, 'Predicted label')"
            ]
          },
          "metadata": {
            "tags": []
          },
          "execution_count": 34
        },
        {
          "output_type": "display_data",
          "data": {
            "image/png": "[encoded data removed]",
            "text/plain": [
              "<Figure size 432x288 with 2 Axes>"
            ]
          },
          "metadata": {
            "tags": [],
            "needs_background": "light"
          }
        }
      ]
    },
    {
      "cell_type": "markdown",
      "metadata": {
        "id": "0duxMT8shkoG",
        "colab_type": "text"
      },
      "source": [
        "**Adaptive Boosted Trees**"
      ]
    },
    {
      "cell_type": "code",
      "metadata": {
        "id": "WU7QuzCs65P_",
        "colab_type": "code",
        "colab": {
          "base_uri": "https://localhost:8080/",
          "height": 238
        },
        "outputId": "51751471-f0eb-47e6-c35d-1069a4543692"
      },
      "source": [
        "# 5. Multi-class AdaBoosted Decision Trees\n",
        "from sklearn.datasets import make_gaussian_quantiles\n",
        "from sklearn.ensemble import AdaBoostClassifier\n",
        "from sklearn.metrics import accuracy_score\n",
        "from sklearn.metrics import classification_report, confusion_matrix, accuracy_score\n",
        "from sklearn.tree import DecisionTreeClassifier\n",
        "bdt_discrete = AdaBoostClassifier(\n",
        "    DecisionTreeClassifier(max_depth=2),\n",
        "    n_estimators=600,\n",
        "    learning_rate=1.5,\n",
        "    algorithm=\"SAMME\")\n",
        "bdt_discrete.fit(train_x, train_Y)\n",
        "a_pred = bdt_discrete.predict(test_x)\n",
        "mat = confusion_matrix(test_Y,a_pred)\n",
        "print(classification_report(test_Y,a_pred))\n",
        "print(accuracy_score(test_Y,a_pred))"
      ],
      "execution_count": null,
      "outputs": [
        {
          "output_type": "stream",
          "text": [
            "              precision    recall  f1-score   support\n",
            "\n",
            "      benign       0.67      0.96      0.79      9711\n",
            "         dos       0.97      0.75      0.84      7636\n",
            "       probe       0.75      0.72      0.73      2423\n",
            "         r2l       0.93      0.19      0.31      2574\n",
            "         u2r       0.33      0.03      0.05       200\n",
            "\n",
            "    accuracy                           0.76     22544\n",
            "   macro avg       0.73      0.53      0.55     22544\n",
            "weighted avg       0.81      0.76      0.74     22544\n",
            "\n",
            "0.7646823988644429\n"
          ],
          "name": "stdout"
        }
      ]
    },
    {
      "cell_type": "code",
      "metadata": {
        "id": "pXXSdgIN6qv8",
        "colab_type": "code",
        "colab": {
          "base_uri": "https://localhost:8080/",
          "height": 255
        },
        "outputId": "9a8a98eb-dd74-4999-b8bd-90d0b358fd26"
      },
      "source": [
        "from sklearn.metrics import multilabel_confusion_matrix\n",
        "mul_c = multilabel_confusion_matrix(test_Y,a_pred, labels=[\"benign\", \"dos\",\"probe\",\"r2l\",\"u2r\"])"
      ],
      "execution_count": null,
      "outputs": [
        {
          "output_type": "execute_result",
          "data": {
            "text/plain": [
              "array([[[ 8308,  4525],\n",
              "        [  389,  9322]],\n",
              "\n",
              "       [[14743,   165],\n",
              "        [ 1936,  5700]],\n",
              "\n",
              "       [[19550,   571],\n",
              "        [  690,  1733]],\n",
              "\n",
              "       [[19936,    34],\n",
              "        [ 2095,   479]],\n",
              "\n",
              "       [[22334,    10],\n",
              "        [  195,     5]]])"
            ]
          },
          "metadata": {
            "tags": []
          },
          "execution_count": 36
        }
      ]
    },
    {
      "cell_type": "code",
      "metadata": {
        "id": "wsSxv_wbavYc",
        "colab_type": "code",
        "colab": {
          "base_uri": "https://localhost:8080/",
          "height": 102
        },
        "outputId": "3d5b8cc9-79cf-4584-8c53-22d8099439df"
      },
      "source": [
        "from sklearn.metrics import multilabel_confusion_matrix\n",
        "mul_c = multilabel_confusion_matrix(test_Y,a_pred, labels=[\"benign\", \"dos\",\"probe\",\"r2l\",\"u2r\"])\n",
        "for i in range(len(mul_c)):\n",
        "    confusion = mul_c[i]\n",
        "    TP = confusion[1][1]\n",
        "    TN = confusion[0][0]\n",
        "    FP = confusion[0][1]\n",
        "    FN = confusion[1][0]\n",
        "    print((TP + TN) / float(TP + TN + FP + FN)*100)"
      ],
      "execution_count": null,
      "outputs": [
        {
          "output_type": "stream",
          "text": [
            "78.20262597586941\n",
            "90.68044712562101\n",
            "94.40649396735273\n",
            "90.55624556422995\n",
            "99.09066713981547\n"
          ],
          "name": "stdout"
        }
      ]
    },
    {
      "cell_type": "markdown",
      "metadata": {
        "id": "WgSDbydshqud",
        "colab_type": "text"
      },
      "source": [
        "**Confusion Matrix ADA**"
      ]
    },
    {
      "cell_type": "code",
      "metadata": {
        "id": "6jCoQmfkwpQM",
        "colab_type": "code",
        "colab": {
          "base_uri": "https://localhost:8080/",
          "height": 344
        },
        "outputId": "692ec881-3d20-44f4-a07e-329d612d4f4a"
      },
      "source": [
        "# create heatmap\n",
        "sns.heatmap(pd.DataFrame(mat), annot=True, cmap=\"YlGnBu\" ,fmt='g',xticklabels= ['benign','dos','probe','r2l','u2r'],yticklabels=['benign','dos','probe','r2l','u2r'])\n",
        "plt.tight_layout()\n",
        "plt.title('Confusion matrix')\n",
        "plt.ylabel('Actual label')\n",
        "plt.xlabel('Predicted label')"
      ],
      "execution_count": null,
      "outputs": [
        {
          "output_type": "execute_result",
          "data": {
            "text/plain": [
              "Text(0.5, 15.0, 'Predicted label')"
            ]
          },
          "metadata": {
            "tags": []
          },
          "execution_count": 38
        },
        {
          "output_type": "display_data",
          "data": {
            "image/png": "[encoded data removed]",
            "text/plain": [
              "<Figure size 432x288 with 2 Axes>"
            ]
          },
          "metadata": {
            "tags": [],
            "needs_background": "light"
          }
        }
      ]
    },
    {
      "cell_type": "code",
      "metadata": {
        "id": "6HnNfJ2niboF",
        "colab_type": "code",
        "colab": {}
      },
      "source": [
        "poacc = [['KNN','RF','LR','SVM','ADA'],[75.51,77.04, 75.30,75.84,76.46]]"
      ],
      "execution_count": null,
      "outputs": []
    },
    {
      "cell_type": "code",
      "metadata": {
        "id": "lQHdnS36k28M",
        "colab_type": "code",
        "colab": {
          "base_uri": "https://localhost:8080/",
          "height": 295
        },
        "outputId": "083c2166-ba35-4eea-dd67-74e07bcbaf8b"
      },
      "source": [
        "import matplotlib.pyplot as plt\n",
        "\n",
        "x = poacc[0]\n",
        "y = poacc[1]\n",
        "plt.plot(x,y,color = 'green', linestyle = 'dashed', linewidth = 3, marker = 'o', markerfacecolor = 'blue' , markersize = 11)\n",
        "plt.ylim(74,80)\n",
        "plt.ylabel(\"Accuracy\")\n",
        "plt.xlabel(\"Models\")\n",
        "plt.title(\"Accuracy Graph\")\n",
        "plt.show()"
      ],
      "execution_count": null,
      "outputs": [
        {
          "output_type": "display_data",
          "data": {
            "image/png": "[encoded data removed]",
            "text/plain": [
              "<Figure size 432x288 with 1 Axes>"
            ]
          },
          "metadata": {
            "tags": [],
            "needs_background": "light"
          }
        }
      ]
    }
  ]
}
